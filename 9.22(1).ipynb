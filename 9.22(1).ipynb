{
 "cells": [
  {
   "cell_type": "code",
   "execution_count": 1,
   "metadata": {},
   "outputs": [
    {
     "data": {
      "text/plain": [
       "[13, 23]"
      ]
     },
     "execution_count": 1,
     "metadata": {},
     "output_type": "execute_result"
    }
   ],
   "source": [
    "list=[i for i in range(1,29)]\n",
    "while len(list)>2:\n",
    "    a = list.pop(0)\n",
    "    b = list.pop(0)\n",
    "    list.pop(0)\n",
    "    list.append(a)\n",
    "    list.append(b)\n",
    "list"
   ]
  },
  {
   "cell_type": "code",
   "execution_count": 2,
   "metadata": {},
   "outputs": [
    {
     "ename": "SyntaxError",
     "evalue": "invalid syntax (<ipython-input-2-fcae1c9e8303>, line 1)",
     "output_type": "error",
     "traceback": [
      "\u001b[1;36m  File \u001b[1;32m\"<ipython-input-2-fcae1c9e8303>\"\u001b[1;36m, line \u001b[1;32m1\u001b[0m\n\u001b[1;33m    a= for i in range(1,29)\u001b[0m\n\u001b[1;37m         ^\u001b[0m\n\u001b[1;31mSyntaxError\u001b[0m\u001b[1;31m:\u001b[0m invalid syntax\n"
     ]
    }
   ],
   "source": [
    "a= for i in range(1,29)"
   ]
  },
  {
   "cell_type": "code",
   "execution_count": null,
   "metadata": {},
   "outputs": [],
   "source": [
    "a= for i in range(1,29)"
   ]
  },
  {
   "cell_type": "code",
   "execution_count": 1,
   "metadata": {},
   "outputs": [
    {
     "name": "stdout",
     "output_type": "stream",
     "text": [
      "请输入你想要抽取的人数：4\n",
      "4\n",
      "陈萌萌 2019660110\n",
      "周嘉铖 2019660101\n",
      "黄舒怡 2019660107\n",
      "钱涛 2019660106\n"
     ]
    }
   ],
   "source": [
    "cl = {\"周嘉铖\":\"2019660101\",\n",
    "     \"钱珑超\":\"2019660103\",\n",
    "     \"徐展\":\"2019660104\",\n",
    "     \"尤桉哲\":\"2019660105\",\n",
    "     \"钱涛\":\"2019660106\",\n",
    "     \"黄舒怡\":\"2019660107\",\n",
    "     \"胡志辉\":\"2019660108\",\n",
    "     \"吴昭耀\":\"2019660109\",\n",
    "     \"陈萌萌\":\"2019660110\",\n",
    "     \"郑巧悦\":\"2019660111\",\n",
    "     \"陈艳\":\"2019660112\",\n",
    "     \"梁明皓\":\"2019660113\",\n",
    "     \"蒋俊超\":\"2019660114\",\n",
    "     \"徐颖\":\"2019660115\",\n",
    "     \"倪宏涛\":\"2019660116\",\n",
    "     \"潘梦倩\":\"2019660117\",\n",
    "     \"俞靖庐\":\"2019660118\",\n",
    "     \"王中阳\":\"2019660119\",\n",
    "     \"毛贞强\":\"2019660120\",\n",
    "     \"张嫒\":\"2019660121\",\n",
    "     \"朱速航\":\"2019660123\",\n",
    "     \"陈涛\":\"2019660124\",\n",
    "     \"陆元超\":\"2019660125\",\n",
    "     \"叶振雄\":\"2019660126\",\n",
    "     \"奚申杰\":\"2019660127\",\n",
    "     \"叶梦婷\":\"2019660128\",\n",
    "     \"徐丽丽\":\"2019660129\",\n",
    "     \"潘艳\":\"2019660130\"}\n",
    "import random\n",
    "sjs=int(input(\"请输入你想要抽取的人数：\"))\n",
    "print(sjs)\n",
    "do = random.sample(cl.keys(),sjs)\n",
    "for i in do:\n",
    "    print(i,cl[i])"
   ]
  },
  {
   "cell_type": "code",
   "execution_count": null,
   "metadata": {},
   "outputs": [],
   "source": [
    "import random\n",
    "sjs=random.randint(1,28)\n",
    "proxy = random.choice(list(cl))"
   ]
  },
  {
   "cell_type": "code",
   "execution_count": null,
   "metadata": {},
   "outputs": [],
   "source": [
    "input(\"请输入你要抽取的人数：\")"
   ]
  }
 ],
 "metadata": {
  "kernelspec": {
   "display_name": "Python 3",
   "language": "python",
   "name": "python3"
  },
  "language_info": {
   "codemirror_mode": {
    "name": "ipython",
    "version": 3
   },
   "file_extension": ".py",
   "mimetype": "text/x-python",
   "name": "python",
   "nbconvert_exporter": "python",
   "pygments_lexer": "ipython3",
   "version": "3.6.4"
  }
 },
 "nbformat": 4,
 "nbformat_minor": 2
}
